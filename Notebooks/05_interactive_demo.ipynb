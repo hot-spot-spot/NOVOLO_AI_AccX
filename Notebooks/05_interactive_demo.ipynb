{
 "cells": [
  {
   "cell_type": "code",
   "execution_count": 1,
   "id": "605ad568-d386-452b-9fe0-d0f9e238906b",
   "metadata": {},
   "outputs": [],
   "source": [
    "import joblib"
   ]
  },
  {
   "cell_type": "code",
   "execution_count": 2,
   "id": "896c3124-4ede-43ed-a385-7a5657a182d4",
   "metadata": {},
   "outputs": [],
   "source": [
    "model = joblib.load(\"sentiment_model.pkl\")"
   ]
  },
  {
   "cell_type": "code",
   "execution_count": 3,
   "id": "d413684e-d541-44ca-8246-7d6ec5f073c4",
   "metadata": {},
   "outputs": [
    {
     "name": "stdin",
     "output_type": "stream",
     "text": [
      "Enter a social media post (or type 'exit'):  I'm thrilled \n"
     ]
    },
    {
     "name": "stdout",
     "output_type": "stream",
     "text": [
      "Predicted Sentiment:  Positive  \n"
     ]
    },
    {
     "name": "stdin",
     "output_type": "stream",
     "text": [
      "Enter a social media post (or type 'exit'):  Its weird\n"
     ]
    },
    {
     "name": "stdout",
     "output_type": "stream",
     "text": [
      "Predicted Sentiment:  Positive  \n"
     ]
    },
    {
     "name": "stdin",
     "output_type": "stream",
     "text": [
      "Enter a social media post (or type 'exit'):  Its bad to see this\n"
     ]
    },
    {
     "name": "stdout",
     "output_type": "stream",
     "text": [
      "Predicted Sentiment:  Positive  \n"
     ]
    },
    {
     "name": "stdin",
     "output_type": "stream",
     "text": [
      "Enter a social media post (or type 'exit'):  exit\n"
     ]
    }
   ],
   "source": [
    "def predict_sentiment(text):\n",
    "    pred = model.predict([text])[0]\n",
    "    return pred\n",
    "\n",
    "while True:\n",
    "    text = input(\"Enter a social media post (or type 'exit'): \")\n",
    "    if text.lower() == 'exit':\n",
    "        break\n",
    "    print(\"Predicted Sentiment:\", predict_sentiment(text))"
   ]
  }
 ],
 "metadata": {
  "kernelspec": {
   "display_name": "Python 3 (ipykernel)",
   "language": "python",
   "name": "python3"
  },
  "language_info": {
   "codemirror_mode": {
    "name": "ipython",
    "version": 3
   },
   "file_extension": ".py",
   "mimetype": "text/x-python",
   "name": "python",
   "nbconvert_exporter": "python",
   "pygments_lexer": "ipython3",
   "version": "3.12.7"
  }
 },
 "nbformat": 4,
 "nbformat_minor": 5
}
